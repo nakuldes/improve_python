{
 "cells": [
  {
   "cell_type": "code",
   "execution_count": 7,
   "metadata": {},
   "outputs": [
    {
     "name": "stdout",
     "output_type": "stream",
     "text": [
      "Yes\n",
      "Auto_strstr\n"
     ]
    }
   ],
   "source": [
    "uniquestr = 'str'\n",
    "TestData = {'Name' : 'Auto_str'}\n",
    "package_name:str = TestData[\"Name\"] + uniquestr if(str(TestData[\"Name\"]) != \"None\") else \"\"\n",
    "\n",
    "if package_name.startswith('Auto_'):\n",
    "    print('Yes')\n",
    "print(package_name)"
   ]
  },
  {
   "cell_type": "code",
   "execution_count": 4,
   "metadata": {},
   "outputs": [
    {
     "name": "stdout",
     "output_type": "stream",
     "text": [
      "7\n"
     ]
    }
   ],
   "source": [
    "def binary_search(data, value):\n",
    "    n = len(data)\n",
    "    left = 0\n",
    "    right = n - 1\n",
    "    while left <= right:\n",
    "        middle = (left + right) // 2\n",
    "        if value < data[middle]:\n",
    "            right = middle - 1\n",
    "        elif value > data[middle]:\n",
    "            left = middle + 1\n",
    "        else:\n",
    "            return middle\n",
    "    raise ValueError('Value is not in the list')\n",
    "    \n",
    "if __name__ == '__main__':\n",
    "    data = [1, 2, 3, 4, 5, 6, 7, 8, 9]\n",
    "    print(binary_search(data, 8))"
   ]
  },
  {
   "cell_type": "code",
   "execution_count": 17,
   "metadata": {},
   "outputs": [
    {
     "name": "stdout",
     "output_type": "stream",
     "text": [
      "1.5\n",
      "odd\n"
     ]
    }
   ],
   "source": [
    "a:int = 3\n",
    "c = a/2\n",
    "print(c)\n",
    "if str(c).__contains__('.5'):\n",
    "    print('odd')\n",
    "else:\n",
    "    print('even')"
   ]
  },
  {
   "cell_type": "code",
   "execution_count": 4,
   "metadata": {},
   "outputs": [
    {
     "name": "stdout",
     "output_type": "stream",
     "text": [
      "2\n",
      "Help on method_descriptor:\n",
      "\n",
      "count(...)\n",
      "    S.count(sub[, start[, end]]) -> int\n",
      "    \n",
      "    Return the number of non-overlapping occurrences of substring sub in\n",
      "    string S[start:end].  Optional arguments start and end are\n",
      "    interpreted as in slice notation.\n",
      "\n",
      "None\n"
     ]
    }
   ],
   "source": [
    "import inspect\n",
    "string_with_2_e = 'getter'\n",
    "\n",
    "def find_ee(input_str:str):\n",
    "    return input_str.count('e', 0, len(input_str))\n",
    "\n",
    "ls_of_in = find_ee(string_with_2_e)\n",
    "print(ls_of_in)\n",
    "print(help(str.count))\n"
   ]
  },
  {
   "cell_type": "code",
   "execution_count": 6,
   "metadata": {},
   "outputs": [
    {
     "name": "stdout",
     "output_type": "stream",
     "text": [
      "ob2 is greater than ob1\n"
     ]
    }
   ],
   "source": [
    "class A:\n",
    "    def __init__(self, a):\n",
    "        self.a = a\n",
    "    def __gt__(self, other):\n",
    "        if(self.a>other.a):\n",
    "            return True\n",
    "        else:\n",
    "            return False\n",
    "ob1 = A(2)\n",
    "ob2 = A(3)\n",
    "if(ob1>ob2):\n",
    "    print(\"ob1 is greater than ob2\")\n",
    "else:\n",
    "    print(\"ob2 is greater than ob1\")"
   ]
  },
  {
   "cell_type": "code",
   "execution_count": 18,
   "metadata": {},
   "outputs": [
    {
     "name": "stdout",
     "output_type": "stream",
     "text": [
      "['abc', 'cab']\n",
      "\n"
     ]
    }
   ],
   "source": [
    "ls = {1: ['abc'], 2:['bca']}\n",
    "ls[1].append('cab')\n",
    "print(ls[1])\n",
    "\n",
    "print()"
   ]
  },
  {
   "cell_type": "code",
   "execution_count": 4,
   "metadata": {},
   "outputs": [
    {
     "name": "stdout",
     "output_type": "stream",
     "text": [
      "sdsd\n",
      "<bound method Person.get_name of <__main__.Person object at 0x000001A140678AC0>>\n"
     ]
    }
   ],
   "source": [
    "class Person:\n",
    "    def __init__(self, given_name, given_scl) -> None:\n",
    "        self.name = given_name\n",
    "        self.scl= given_scl\n",
    "\n",
    "    def set_name(self, value):\n",
    "        self.name = value\n",
    "\n",
    "    def get_name(self):\n",
    "        return self.name\n",
    "        \n",
    "    def del_name(self):\n",
    "        print('Deleting name')\n",
    "        del self.name\n",
    "\n",
    "\n",
    "obj = Person('sdsd', 'scl')\n",
    "\n",
    "print(obj.name)\n",
    "del obj.name\n",
    "print(obj.get_name)\n"
   ]
  },
  {
   "cell_type": "code",
   "execution_count": 1,
   "metadata": {},
   "outputs": [
    {
     "ename": "ModuleNotFoundError",
     "evalue": "No module named 'pandas'",
     "output_type": "error",
     "traceback": [
      "\u001b[1;31m---------------------------------------------------------------------------\u001b[0m",
      "\u001b[1;31mModuleNotFoundError\u001b[0m                       Traceback (most recent call last)",
      "\u001b[1;32mc:\\scraper\\MyScraper\\Untitled-1.ipynb Cell 7\u001b[0m in \u001b[0;36m<cell line: 1>\u001b[1;34m()\u001b[0m\n\u001b[1;32m----> <a href='vscode-notebook-cell:/c%3A/scraper/MyScraper/Untitled-1.ipynb#X14sZmlsZQ%3D%3D?line=0'>1</a>\u001b[0m \u001b[39mimport\u001b[39;00m \u001b[39mpandas\u001b[39;00m \u001b[39mas\u001b[39;00m \u001b[39mpd\u001b[39;00m\n\u001b[0;32m      <a href='vscode-notebook-cell:/c%3A/scraper/MyScraper/Untitled-1.ipynb#X14sZmlsZQ%3D%3D?line=1'>2</a>\u001b[0m df \u001b[39m=\u001b[39m pd\u001b[39m.\u001b[39mread_excel(\u001b[39m'\u001b[39m\u001b[39mTemplate.xlsx\u001b[39m\u001b[39m'\u001b[39m, dtype\u001b[39m=\u001b[39m\u001b[39mobject\u001b[39m)\n\u001b[0;32m      <a href='vscode-notebook-cell:/c%3A/scraper/MyScraper/Untitled-1.ipynb#X14sZmlsZQ%3D%3D?line=2'>3</a>\u001b[0m n_df \u001b[39m=\u001b[39m df\u001b[39m.\u001b[39mtranspose()\n",
      "\u001b[1;31mModuleNotFoundError\u001b[0m: No module named 'pandas'"
     ]
    }
   ],
   "source": [
    "\n",
    "import pandas as pd\n",
    "df = pd.read_excel('Template.xlsx', dtype=object)\n",
    "n_df = df.transpose()\n",
    "counts:object = n_df[0].value_counts['Mandatory Field']\n",
    "\n",
    "print(counts)\n",
    "print(type(counts))"
   ]
  },
  {
   "cell_type": "code",
   "execution_count": 13,
   "metadata": {},
   "outputs": [
    {
     "name": "stdout",
     "output_type": "stream",
     "text": [
      "['Computer Science', 'b', 'Fine Arts']\n",
      "[('Allen Anderson', 'Computer Science'), ('c', 'b'), ('Farrah Finn', 'Fine Arts')]\n"
     ]
    }
   ],
   "source": [
    "students = [(\"Allen Anderson\", \"Computer Science\"),\n",
    "            (\"Edgar Einstein\", \"Engineering\"),\n",
    "            (\"Farrah Finn\", \"Fine Arts\")]\n",
    "     \n",
    "def add_new_student(students, name, major):\n",
    "    students.append((name, major))\n",
    "\n",
    "def update_student(students, index, name, major):\n",
    "    students[index] = name, major\n",
    "\n",
    "def get_all_majors(students):\n",
    "    return [student[1] for student in students]\n",
    "\n",
    "update_student(students, 1, 'c', 'b')\n",
    "\n",
    "print(get_all_majors(students))\n",
    "print(students)"
   ]
  },
  {
   "cell_type": "code",
   "execution_count": 26,
   "metadata": {},
   "outputs": [
    {
     "name": "stdout",
     "output_type": "stream",
     "text": [
      "{'Randy': ['Input.txt', 'Output.txt'], 'Stan': ['Code.py']}\n"
     ]
    }
   ],
   "source": [
    "files = {\n",
    "    'Input.txt': 'Randy',\n",
    "    'Code.py': 'Stan',\n",
    "    'Output.txt': 'Randy'\n",
    "} \n",
    "ls = {}\n",
    "for k, v in files.items():\n",
    "    if v not in ls.keys():\n",
    "        ls[v] = []\n",
    "    ls[v].append(k)\n",
    "\n",
    "print(ls)"
   ]
  },
  {
   "cell_type": "code",
   "execution_count": 27,
   "metadata": {},
   "outputs": [
    {
     "name": "stdout",
     "output_type": "stream",
     "text": [
      "[['vanilla', 'chocolate sauce'], ['chocolate', 'chocolate sauce']]\n",
      "None\n"
     ]
    }
   ],
   "source": [
    "class IceCreamMachine:\n",
    "    \n",
    "    def __init__(self, ingredients, toppings):\n",
    "        self.ingredients = ingredients\n",
    "        self.toppings = toppings\n",
    "        \n",
    "    def scoops(self):\n",
    "        ls = []\n",
    "        for i in self.ingredients:\n",
    "            for t in self.toppings:\n",
    "                ls.append([i,t])\n",
    "        print(ls)\n",
    "    \n",
    "            \n",
    "\n",
    "if __name__ == \"__main__\":\n",
    "    machine = IceCreamMachine([\"vanilla\", \"chocolate\"], [\"chocolate sauce\"])\n",
    "    print(machine.scoops()) #should print[['vanilla', 'chocolate sauce'], ['chocolate', 'chocolate sauce']]"
   ]
  },
  {
   "cell_type": "code",
   "execution_count": 31,
   "metadata": {},
   "outputs": [
    {
     "name": "stdout",
     "output_type": "stream",
     "text": [
      "(0, -7)\n"
     ]
    }
   ],
   "source": [
    "def find_roots(a, b, c):\n",
    "  st1 = (b**2 - 4*a*c)** 0.5\n",
    "  \n",
    "  st2 = 2 * a\n",
    "  \n",
    "  x1 = int((st1 - b)/st2)\n",
    "  x2 = int(-(b + st1)/st2)\n",
    "  \n",
    "  \n",
    "  return (x1, x2)\n",
    "\n",
    "print(find_roots(2, 16, 8));"
   ]
  },
  {
   "cell_type": "code",
   "execution_count": 34,
   "metadata": {},
   "outputs": [
    {
     "name": "stdout",
     "output_type": "stream",
     "text": [
      "['auto_OD_', 'Auto_Package_OD_123']\n"
     ]
    }
   ],
   "source": [
    "packages_list:list = ['auto_pkg', 'auto_OD_', 'Auto_Package_OD_123']\n",
    "s = [v for v in packages_list if '_OD_' in v]\n",
    "print(s)"
   ]
  },
  {
   "cell_type": "code",
   "execution_count": 1,
   "metadata": {},
   "outputs": [],
   "source": [
    "# Python3 program to implement direct index\n",
    "# mapping with negative values allowed.\n",
    "\n",
    "# Searching if X is Present in the\n",
    "# given array or not.\n",
    "def search(X):\n",
    "\n",
    " if X >= 0:\n",
    "  return has[X][0] == 1\n",
    "\n",
    " # if X is negative take the absolute\n",
    " # value of X.\n",
    " X = abs(X)\n",
    " return has[X][1] == 1\n",
    "\n",
    "def insert(a, n):\n",
    "\n",
    " for i in range(0, n):\n",
    "  if a[i] >= 0:\n",
    "   has[a[i]][0] = 1\n",
    "  else:\n",
    "   has[abs(a[i])][1] = 1\n",
    "\n",
    "# Driver code\n",
    "if __name__ == \"__main__\":\n",
    "\n",
    " a = [-1, 9, -5, -8, -5, -2]\n",
    " n = len(a)\n",
    "\n",
    " MAX = 1000\n",
    " \n",
    " # Since array is global, it is\n",
    " # initialized as 0.\n",
    " has = [[0 for i in range(2)]\n",
    "   for j in range(MAX + 1)]\n",
    " insert(a, n)\n",
    "X = -5\n",
    "while(X!=None):\n",
    "    print('Enter no to search\\n')\n",
    "    X = input()\n",
    "    if search(X) == True:\n",
    "        print(\"Present\")\n",
    "    else:\n",
    "        print(\"Not Present\")\n",
    "\n",
    "# This code is contributed by Rituraj Jain\n"
   ]
  },
  {
   "cell_type": "code",
   "execution_count": 3,
   "metadata": {},
   "outputs": [
    {
     "name": "stdout",
     "output_type": "stream",
     "text": [
      "!Business1-Monikers::FileSyncClient\n",
      "!Business1-Monikers::SyncClientState\n",
      "!Business1-Monikers::ToastActivation\n",
      "!{0006F03A-0000-0000-C000-000000000046}\n",
      "!Business1-Monikers::StorageProviderStatusUISourceLocalFactory\n",
      "!Business1-Monikers::SyncEngineCOMServer\n",
      "!Business1-Monikers::SyncEngineStorageProviderHandlerProxy\n"
     ]
    }
   ],
   "source": [
    "import win32com.client as win32\n",
    "\n",
    "import pythoncom\n",
    "import subprocess\n",
    "\n",
    "comp = r\"C:/Program Files/Beyond Compare 4/BCompare.exe\"\n",
    "p = subprocess.Popen(comp)\n",
    "\n",
    "\n",
    "# contex = pythoncom.CreateBindCtx(0)\n",
    "# run_coms = pythoncom.GetRunningObjectTable()\n",
    "\n",
    "# monikiers = run_coms.EnumRunning()\n",
    "# for i in monikiers:\n",
    "#     print(i.GetDisplayName(contex, i))"
   ]
  },
  {
   "cell_type": "code",
   "execution_count": 1,
   "metadata": {},
   "outputs": [
    {
     "ename": "ModuleNotFoundError",
     "evalue": "No module named 'yaml'",
     "output_type": "error",
     "traceback": [
      "\u001b[1;31m---------------------------------------------------------------------------\u001b[0m",
      "\u001b[1;31mModuleNotFoundError\u001b[0m                       Traceback (most recent call last)",
      "\u001b[1;32mc:\\scraper\\MyScraper\\Untitled-1.ipynb Cell 15\u001b[0m in \u001b[0;36m<cell line: 1>\u001b[1;34m()\u001b[0m\n\u001b[1;32m----> <a href='vscode-notebook-cell:/c%3A/scraper/MyScraper/Untitled-1.ipynb#X20sZmlsZQ%3D%3D?line=0'>1</a>\u001b[0m \u001b[39mimport\u001b[39;00m \u001b[39myaml\u001b[39;00m\n\u001b[0;32m      <a href='vscode-notebook-cell:/c%3A/scraper/MyScraper/Untitled-1.ipynb#X20sZmlsZQ%3D%3D?line=1'>2</a>\u001b[0m \u001b[39mclass\u001b[39;00m \u001b[39mTestTing\u001b[39;00m:\n\u001b[0;32m      <a href='vscode-notebook-cell:/c%3A/scraper/MyScraper/Untitled-1.ipynb#X20sZmlsZQ%3D%3D?line=2'>3</a>\u001b[0m     \u001b[39mdef\u001b[39;00m \u001b[39mupdate_creds_to_config_install_yml_file\u001b[39m(\u001b[39mself\u001b[39m, creds:\u001b[39mstr\u001b[39m):\n",
      "\u001b[1;31mModuleNotFoundError\u001b[0m: No module named 'yaml'"
     ]
    }
   ],
   "source": [
    "import yaml\n",
    "class TestTing:\n",
    "    def update_creds_to_config_install_yml_file(self, creds:str):\n",
    "        with open('config_install.yml', 'w') as f:\n",
    "            cfg = yaml.safe_load(f)\n",
    "            print(cfg)\n",
    "            pass\n",
    "            \n",
    "\n",
    "\n",
    "c = {\n",
    "    'etcdroot_password': 'eii123',\n",
    "    'influxdb_username': 'admin',\n",
    "    'influxdb_password': 'admin123',\n",
    "    'webvisualizer_username': 'admin',\n",
    "    'webvisualizer_password': 'admin@123',\n",
    "    'minio_access_key': 'admin',\n",
    "    'minio_secret_key': 'password'\n",
    "}\n",
    "obj = TestTing()\n",
    "obj.update_creds_to_config_install_yml_file(c)"
   ]
  }
 ],
 "metadata": {
  "kernelspec": {
   "display_name": "Python 3.9.6 ('dse-esh-YimAMOvC')",
   "language": "python",
   "name": "python3"
  },
  "language_info": {
   "codemirror_mode": {
    "name": "ipython",
    "version": 3
   },
   "file_extension": ".py",
   "mimetype": "text/x-python",
   "name": "python",
   "nbconvert_exporter": "python",
   "pygments_lexer": "ipython3",
   "version": "3.9.6"
  },
  "orig_nbformat": 4,
  "vscode": {
   "interpreter": {
    "hash": "78c2d174392e21d4eab9f5f7c38cd9ba468e84fb79f7c759b350a04793216eb6"
   }
  }
 },
 "nbformat": 4,
 "nbformat_minor": 2
}
